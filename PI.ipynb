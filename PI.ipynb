{
  "cells": [
    {
      "cell_type": "markdown",
      "metadata": {
        "colab_type": "text",
        "id": "view-in-github"
      },
      "source": [
        "<a href=\"https://colab.research.google.com/github/kdavisong/Proyectos/blob/main/PI.ipynb\" target=\"_parent\"><img src=\"https://colab.research.google.com/assets/colab-badge.svg\" alt=\"Open In Colab\"/></a>"
      ]
    },
    {
      "cell_type": "markdown",
      "metadata": {},
      "source": [
        "MOVIES RECOMENDATIONS\n",
        "Kevin Davison Galvis"
      ]
    },
    {
      "cell_type": "code",
      "execution_count": 75,
      "metadata": {
        "colab": {
          "base_uri": "https://localhost:8080/"
        },
        "id": "uJVZgVElv61Z",
        "outputId": "249789d8-94db-4dc3-bcc1-b5024ed8086e"
      },
      "outputs": [],
      "source": [
        "import numpy as np\n",
        "import pandas as pd\n",
        "from time import strftime\n",
        "from datetime import datetime\n",
        "import ast\n",
        "from ast import literal_eval"
      ]
    },
    {
      "cell_type": "code",
      "execution_count": 76,
      "metadata": {
        "colab": {
          "base_uri": "https://localhost:8080/"
        },
        "id": "c3y-OkBk4_Aa",
        "outputId": "bdcd73c4-b34a-429c-fd7a-726021a17c08"
      },
      "outputs": [
        {
          "name": "stderr",
          "output_type": "stream",
          "text": [
            "C:\\Users\\KEVIN\\AppData\\Local\\Temp\\ipykernel_8980\\2708928596.py:2: DtypeWarning: Columns (10) have mixed types. Specify dtype option on import or set low_memory=False.\n",
            "  df = pd.read_csv(\"movies_dataset.csv\")\n"
          ]
        }
      ],
      "source": [
        "#1 Llemos dataset base y generamos una copia para desanidar y modificar\n",
        "df = pd.read_csv(\"movies_dataset.csv\")\n",
        "iso_639_1 = pd.read_csv(\"iso_639_1.csv\")\n",
        "df2 = df\n",
        "c = pd.read_csv(\"credits.csv\")\n",
        "Crew = pd.DataFrame()\n",
        "Saga = pd.DataFrame()\n"
      ]
    },
    {
      "cell_type": "code",
      "execution_count": 77,
      "metadata": {
        "id": "PBhZoY475H6f"
      },
      "outputs": [],
      "source": [
        "###3_Rellenamos los valores vacios\n",
        "df2[\"belongs_to_collection\"] = df2[\"belongs_to_collection\"].fillna(\"{'id': 'NaN','name': 'NaN','poster_path': 'NaN','backdrop_path': 'NaN'}\")\n",
        "df2[\"genres\"] = df2[\"genres\"].fillna(\"[]\")\n",
        "df2[\"production_companies\"] = df2[\"production_companies\"].fillna(\"[]\")\n",
        "df2[\"production_countries\"] = df2[\"production_countries\"].fillna(\"[]\")\n",
        "df2[\"spoken_languages\"] = df2[\"spoken_languages\"].fillna(\"[]\")\n",
        "df2[\"revenue\"] = df2[\"revenue\"].fillna(0)\n",
        "df2[\"budget\"] = df2[\"budget\"].fillna(0)\n",
        "c[\"crew\"] = c[\"crew\"].fillna(\"[]\")"
      ]
    },
    {
      "cell_type": "code",
      "execution_count": 78,
      "metadata": {},
      "outputs": [],
      "source": [
        "###4Se realizan conversiones en los casos donde se lee los datos de la columna como str\n",
        "#df2[\"belongs_to_collection\"] = df2[\"belongs_to_collection\"].apply(literal_eval)"
      ]
    },
    {
      "cell_type": "code",
      "execution_count": 79,
      "metadata": {},
      "outputs": [],
      "source": [
        "#Se aplica la función literal eval para los casos donde se leen listas o dic como str\n",
        "df2.loc[:,\"belongs_to_collection\"] = df2[\"belongs_to_collection\"].apply(literal_eval)\n",
        "df2.loc[:, \"genres\"] = df2[\"genres\"].apply(literal_eval)\n",
        "df2.loc[:, \"production_companies\"] = df2[\"production_companies\"].apply(literal_eval)\n",
        "df2.loc[:, \"production_countries\"] = df2[\"production_countries\"].apply(literal_eval)\n",
        "df2.loc[:, \"spoken_languages\"] = df2[\"spoken_languages\"].apply(literal_eval)\n",
        "c.loc[:, \"crew\"] = c[\"crew\"].apply(literal_eval)"
      ]
    },
    {
      "cell_type": "code",
      "execution_count": 80,
      "metadata": {
        "colab": {
          "base_uri": "https://localhost:8080/",
          "height": 1000
        },
        "id": "KMs6Z4h5xJ_v",
        "outputId": "3cd4405b-8192-4a24-b807-38f02d623765"
      },
      "outputs": [],
      "source": [
        "#7 Se eliminan columnas innecesarias\n",
        "df2 = df2.drop([\"video\", \"imdb_id\", \"adult\", \"homepage\", \"original_title\", \"poster_path\"], axis = 1)"
      ]
    },
    {
      "cell_type": "code",
      "execution_count": 81,
      "metadata": {},
      "outputs": [],
      "source": [
        "mask = df2['belongs_to_collection'].apply(lambda x: isinstance(x, float) and not np.isnan(x))\n",
        "df2.drop(df2[mask].index, inplace=True)\n",
        "mask = df2['production_countries'].apply(lambda x: isinstance(x, float) and not np.isnan(x))\n",
        "df2.drop(df2[mask].index, inplace=True)"
      ]
    },
    {
      "cell_type": "code",
      "execution_count": 82,
      "metadata": {},
      "outputs": [
        {
          "data": {
            "text/html": [
              "<div>\n",
              "<style scoped>\n",
              "    .dataframe tbody tr th:only-of-type {\n",
              "        vertical-align: middle;\n",
              "    }\n",
              "\n",
              "    .dataframe tbody tr th {\n",
              "        vertical-align: top;\n",
              "    }\n",
              "\n",
              "    .dataframe thead th {\n",
              "        text-align: right;\n",
              "    }\n",
              "</style>\n",
              "<table border=\"1\" class=\"dataframe\">\n",
              "  <thead>\n",
              "    <tr style=\"text-align: right;\">\n",
              "      <th></th>\n",
              "      <th>belongs_to_collection</th>\n",
              "      <th>budget</th>\n",
              "      <th>genres</th>\n",
              "      <th>id</th>\n",
              "      <th>original_language</th>\n",
              "      <th>overview</th>\n",
              "      <th>popularity</th>\n",
              "      <th>production_companies</th>\n",
              "      <th>production_countries</th>\n",
              "      <th>release_date</th>\n",
              "      <th>revenue</th>\n",
              "      <th>runtime</th>\n",
              "      <th>spoken_languages</th>\n",
              "      <th>status</th>\n",
              "      <th>tagline</th>\n",
              "      <th>title</th>\n",
              "      <th>vote_average</th>\n",
              "      <th>vote_count</th>\n",
              "    </tr>\n",
              "  </thead>\n",
              "  <tbody>\n",
              "  </tbody>\n",
              "</table>\n",
              "</div>"
            ],
            "text/plain": [
              "Empty DataFrame\n",
              "Columns: [belongs_to_collection, budget, genres, id, original_language, overview, popularity, production_companies, production_countries, release_date, revenue, runtime, spoken_languages, status, tagline, title, vote_average, vote_count]\n",
              "Index: []"
            ]
          },
          "execution_count": 82,
          "metadata": {},
          "output_type": "execute_result"
        }
      ],
      "source": [
        "mascara = df2[\"production_countries\"].apply(lambda x: isinstance(x, float))\n",
        "#mascara = df2[\"production_companies\"].apply(lambda x: isinstance(x, float))\n",
        "floatvalues = df2[mascara]\n",
        "floatvalues"
      ]
    },
    {
      "cell_type": "code",
      "execution_count": 83,
      "metadata": {
        "id": "OEUQuavjxOVn"
      },
      "outputs": [],
      "source": [
        "#8_Se crea nuevos dataframes para ingresarle la información desanidada\n",
        "Saga[\"id_movie\"] = df2[\"id\"]\n",
        "Production_Countries = pd.DataFrame(columns = [\"iso_3166_1\",\"name\"])\n",
        "Production_Countries[\"id_movie\"] = df2[\"id\"]\n",
        "Genres = pd.DataFrame(columns = [\"id\",\"name\"])\n",
        "Genres[\"id_movie\"] = df2[\"id\"]\n",
        "Productoras = pd.DataFrame(columns =[\"id\",\"name\"])\n",
        "Productoras[\"id_movie\"] = df2[\"id\"]\n",
        "Idiomas = pd.DataFrame(columns = [\"iso_3166_1\",\"name\"])\n",
        "Idiomas[\"id_movie\"] = df2[\"id\"]\n",
        "Crew[\"crew\"] = c[\"crew\"]\n",
        "Crew[\"id_movie\"] = c[\"id\"]"
      ]
    },
    {
      "cell_type": "code",
      "execution_count": 84,
      "metadata": {},
      "outputs": [
        {
          "data": {
            "text/html": [
              "<div>\n",
              "<style scoped>\n",
              "    .dataframe tbody tr th:only-of-type {\n",
              "        vertical-align: middle;\n",
              "    }\n",
              "\n",
              "    .dataframe tbody tr th {\n",
              "        vertical-align: top;\n",
              "    }\n",
              "\n",
              "    .dataframe thead th {\n",
              "        text-align: right;\n",
              "    }\n",
              "</style>\n",
              "<table border=\"1\" class=\"dataframe\">\n",
              "  <thead>\n",
              "    <tr style=\"text-align: right;\">\n",
              "      <th></th>\n",
              "      <th>belongs_to_collection</th>\n",
              "      <th>budget</th>\n",
              "      <th>genres</th>\n",
              "      <th>id</th>\n",
              "      <th>original_language</th>\n",
              "      <th>overview</th>\n",
              "      <th>popularity</th>\n",
              "      <th>production_companies</th>\n",
              "      <th>production_countries</th>\n",
              "      <th>release_date</th>\n",
              "      <th>revenue</th>\n",
              "      <th>runtime</th>\n",
              "      <th>spoken_languages</th>\n",
              "      <th>status</th>\n",
              "      <th>tagline</th>\n",
              "      <th>title</th>\n",
              "      <th>vote_average</th>\n",
              "      <th>vote_count</th>\n",
              "    </tr>\n",
              "  </thead>\n",
              "  <tbody>\n",
              "  </tbody>\n",
              "</table>\n",
              "</div>"
            ],
            "text/plain": [
              "Empty DataFrame\n",
              "Columns: [belongs_to_collection, budget, genres, id, original_language, overview, popularity, production_companies, production_countries, release_date, revenue, runtime, spoken_languages, status, tagline, title, vote_average, vote_count]\n",
              "Index: []"
            ]
          },
          "execution_count": 84,
          "metadata": {},
          "output_type": "execute_result"
        }
      ],
      "source": [
        "mascara = df2[\"production_countries\"].apply(lambda x: isinstance(x, float))\n",
        "#mascara = df2[\"production_companies\"].apply(lambda x: isinstance(x, float))\n",
        "floatvalues = df2[mascara]\n",
        "floatvalues"
      ]
    },
    {
      "cell_type": "code",
      "execution_count": 85,
      "metadata": {
        "id": "DhubbDVyxScX"
      },
      "outputs": [],
      "source": [
        "#Se copia columna original para desanidar\n",
        "Saga[\"belongs_to_collection\"] = df2[\"belongs_to_collection\"]\n",
        "Productoras[\"production_companies\"] = df2[\"production_companies\"]\n",
        "Production_Countries[\"production_countries\"] = df2[\"production_countries\"]\n",
        "Genres[\"genres\"] = df2[\"genres\"]\n",
        "Idiomas[\"spoken_languages\"] = df2[\"spoken_languages\"]"
      ]
    },
    {
      "cell_type": "code",
      "execution_count": 86,
      "metadata": {
        "id": "PL3_NUGxxYTD"
      },
      "outputs": [],
      "source": [
        "#generamos nuevo df para desanidar columna production companies\n",
        "Productoras[\"Numero_productoras\"] = Productoras[\"production_companies\"].apply(lambda x: len(x) if not isinstance(x, bool) else None)\n",
        "Production_Countries[\"number_of_countries\"] = Production_Countries[\"production_countries\"].apply(lambda x: len(x) if not isinstance(x, float) else None)\n",
        "Genres[\"number_of_genres\"] = Genres[\"genres\"].apply(lambda x: len(x))\n",
        "Idiomas[\"number_of_languages\"] = Idiomas[\"spoken_languages\"].apply(lambda x: len(x))"
      ]
    },
    {
      "cell_type": "code",
      "execution_count": 87,
      "metadata": {},
      "outputs": [
        {
          "data": {
            "text/html": [
              "<div>\n",
              "<style scoped>\n",
              "    .dataframe tbody tr th:only-of-type {\n",
              "        vertical-align: middle;\n",
              "    }\n",
              "\n",
              "    .dataframe tbody tr th {\n",
              "        vertical-align: top;\n",
              "    }\n",
              "\n",
              "    .dataframe thead th {\n",
              "        text-align: right;\n",
              "    }\n",
              "</style>\n",
              "<table border=\"1\" class=\"dataframe\">\n",
              "  <thead>\n",
              "    <tr style=\"text-align: right;\">\n",
              "      <th></th>\n",
              "      <th>id_movie</th>\n",
              "      <th>belongs_to_collection</th>\n",
              "    </tr>\n",
              "  </thead>\n",
              "  <tbody>\n",
              "  </tbody>\n",
              "</table>\n",
              "</div>"
            ],
            "text/plain": [
              "Empty DataFrame\n",
              "Columns: [id_movie, belongs_to_collection]\n",
              "Index: []"
            ]
          },
          "execution_count": 87,
          "metadata": {},
          "output_type": "execute_result"
        }
      ],
      "source": [
        "mascara = Saga[\"belongs_to_collection\"].apply(lambda x: isinstance(x, float))\n",
        "floatvalues = Saga[mascara]\n",
        "floatvalues"
      ]
    },
    {
      "cell_type": "code",
      "execution_count": 88,
      "metadata": {},
      "outputs": [],
      "source": [
        "def desanidar_columna_dic(data, column_name):\n",
        "    filas_desempacadas = []\n",
        "    for i, row in data.iterrows():\n",
        "        id_value = row['id_movie']\n",
        "        diccionario_data = row[column_name]\n",
        "        fila = {'id_movie': id_value}\n",
        "        fila.update(diccionario_data)\n",
        "        filas_desempacadas.append(fila)\n",
        "    return pd.DataFrame(filas_desempacadas)"
      ]
    },
    {
      "cell_type": "code",
      "execution_count": 89,
      "metadata": {},
      "outputs": [],
      "source": [
        "def desanidar_columna(data, column_name):\n",
        "    filas_desempacadas = []\n",
        "    for i, row in data.iterrows():\n",
        "        id_value = row['id_movie']\n",
        "        product = row[column_name]\n",
        "        for diccionario in product:\n",
        "            fila = {'id_movie': id_value}\n",
        "            fila.update(diccionario)\n",
        "            filas_desempacadas.append(fila)\n",
        "    return pd.DataFrame(filas_desempacadas)"
      ]
    },
    {
      "cell_type": "code",
      "execution_count": 90,
      "metadata": {
        "id": "mDSRf8BFxetm"
      },
      "outputs": [],
      "source": [
        "##DESEMPACANDO Y GENERANDO LISTAS INDEPENDIENTES DEJANDO EL ID DE PELICULA COMO CAMPO RELACIONAL\n",
        "Saga = desanidar_columna_dic(Saga, \"belongs_to_collection\")\n",
        "\n",
        "Genres = desanidar_columna(Genres, \"genres\")\n",
        "\n",
        "Idiomas = desanidar_columna(Idiomas, \"spoken_languages\")\n",
        "Idiomas = pd.merge(Idiomas, iso_639_1, on = \"iso_639_1\")\n",
        "Idiomas = Idiomas.drop([\"name\"], axis = 1)\n",
        "\n",
        "Production_Countries = desanidar_columna(Production_Countries, \"production_countries\")\n",
        "\n",
        "Productoras = desanidar_columna(Productoras, \"production_companies\")\n",
        "\n",
        "Crew = desanidar_columna(Crew, \"crew\")"
      ]
    },
    {
      "cell_type": "code",
      "execution_count": 91,
      "metadata": {
        "id": "Pha_OVjX4zCg"
      },
      "outputs": [],
      "source": [
        "###Se generan nuevas columnas de reñación de ganancia y presupuesto \"return\" y el año de lanzamiento\n",
        "df2[\"return\"] = df2[\"revenue\"] / df2[\"budget\"].astype(float)\n",
        "df2[\"release_year\"] = df2[\"release_date\"].apply(lambda x: datetime.strptime(x, \"%Y-%m-%d\").strftime(\"%Y\") if not pd.isnull(x) else x)\n",
        "df2[\"release_year\"] = df2[\"release_year\"].fillna(0)\n",
        "df2.drop([\"genres\", \"production_countries\", \"production_companies\"], axis = 1, inplace = True)\n",
        "df2 = df2.rename(columns ={\"id\":\"id_movie\"})\n"
      ]
    },
    {
      "cell_type": "code",
      "execution_count": 92,
      "metadata": {
        "id": "KgTYCQuN0aiR"
      },
      "outputs": [],
      "source": [
        "#Generamos csv de nuestras tablas desanidadas\n",
        "Genres.to_csv(\"genres.csv\")\n",
        "Idiomas.to_csv(\"Idiomas.csv\")\n",
        "Production_Countries.to_csv(\"Production_countries.csv\")\n",
        "Productoras.to_csv(\"Productoras.csv\")\n",
        "df2.to_csv(\"movies_data.csv\")\n",
        "Crew.to_csv(\"Crew.csv\")\n",
        "Saga.to_csv(\"Saga.csv\")\n"
      ]
    }
  ],
  "metadata": {
    "colab": {
      "authorship_tag": "ABX9TyPLk97ZPexCUwpCfsjewaho",
      "include_colab_link": true,
      "provenance": []
    },
    "kernelspec": {
      "display_name": "Python 3",
      "name": "python3"
    },
    "language_info": {
      "codemirror_mode": {
        "name": "ipython",
        "version": 3
      },
      "file_extension": ".py",
      "mimetype": "text/x-python",
      "name": "python",
      "nbconvert_exporter": "python",
      "pygments_lexer": "ipython3",
      "version": "3.10.11"
    }
  },
  "nbformat": 4,
  "nbformat_minor": 0
}
